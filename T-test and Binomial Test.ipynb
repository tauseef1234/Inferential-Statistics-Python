{
 "cells": [
  {
   "cell_type": "markdown",
   "metadata": {},
   "source": [
    "## One-Sample T-tests\n",
    "\n",
    "One-sample t-tests are used to compare a sample mean to an expected population mean. They are used for a sample of one quantitative variable. For example, we could use a one-sample t-test to determine if the average amount of time customers spend browsing a shoe boutique is longer than 10 minutes.\n",
    "\n",
    "The below example shows the age of players in a soccer team Arsene FC in England. Suppose the average age of all soccer teams in England is 20 years. Now, we want to test if the average age of players from this particular football club is different than the standard average age.\n",
    "\n",
    "We define the null hypothesis as:\n",
    "**mean of age of players at Arsene FC is not significantly different than the average age of all soccer teams in England.**\n",
    "\n",
    "In python, one sample t-test is implemented in the `ttest_1samp()` in the scipy package that require two inputs - a sample distribution (x) and a mean (popmean) to test against.\n",
    "\n",
    "Note: This function performs a two tailed test by default, more on this later. "
   ]
  },
  {
   "cell_type": "code",
   "execution_count": 1,
   "metadata": {},
   "outputs": [
    {
     "name": "stdout",
     "output_type": "stream",
     "text": [
      "t Statistic:  0.34790160414739335\n",
      "P Value:  0.7351260907906914\n"
     ]
    }
   ],
   "source": [
    "from scipy.stats import ttest_1samp\n",
    "x =  [21.5, 24.5, 18.5, 17.2, 14.5, 23.2, 22.1, 20.5, 19.4, 18.1, 24.1]\n",
    "tscore, pvalue = ttest_1samp(x, popmean=20)\n",
    "print(\"t Statistic: \", tscore)\n",
    "print(\"P Value: \", pvalue)"
   ]
  },
  {
   "cell_type": "markdown",
   "metadata": {},
   "source": [
    "The function `ttest_1samp` returns two outputs: the t-statistic and the p-value.\n",
    "\n",
    "A p-value is a probability value describing how likely it is that your data would have occurred by chance (i.e. the null hypothesis is true). The level of statistical significance is often expressed as a p-value between 0 and 1. The smaller the p-value, the stronger the evidence that you should reject the null hypothesis.\n",
    "\n",
    "- A p-value less than 0.05 is statistically significant. It indicates strong evidence against the null hypothesis.Therefore, we reject the null hypothesis, and accept the alternative hypothesis.\n",
    "- A p-value higher than 0.05 (> 0.05) is not statistically significant and indicates strong evidence for the null hypothesis. This means we retain the null hypothesis and reject the alternative hypothesis.\n",
    "\n",
    "\n",
    "Now, we see from the above t-test that the p-value >>0.05. Hence we accept the null hypothesis and be reasonably confident that the average age of players in Arsene FC team is no different than the average age of players of soccer teams in England.\n"
   ]
  },
  {
   "cell_type": "markdown",
   "metadata": {},
   "source": [
    "Lets say a new soccer team Watford FC is formed with the below age(x) of players. Here again, we want to test the null hypthesis that the average age of players in Watford FC team is no different than the average age of players of soccer teams in England."
   ]
  },
  {
   "cell_type": "code",
   "execution_count": 2,
   "metadata": {
    "scrolled": true
   },
   "outputs": [
    {
     "name": "stdout",
     "output_type": "stream",
     "text": [
      "t Statistic:  -2.9694705384006497\n",
      "P Value:  0.014058542702836154\n"
     ]
    }
   ],
   "source": [
    "from scipy.stats import ttest_1samp\n",
    "x =  [11.5, 19.5, 18.5, 17.2, 14.5, 13.2, 12.1, 10.5, 19.4, 18.1, 24.1]\n",
    "tscore, pvalue = ttest_1samp(x, popmean=20)\n",
    "print(\"t Statistic: \", tscore)  \n",
    "print(\"P Value: \", pvalue)"
   ]
  },
  {
   "cell_type": "markdown",
   "metadata": {},
   "source": [
    "In this scenario, we see that the p-value is <0.05 ans is statistically significant. Hence, we reject the null hypothesis in this case and conclude the average age of players in Watford FC is different than the average age of players of all soccer teams."
   ]
  },
  {
   "cell_type": "markdown",
   "metadata": {},
   "source": [
    "Assumptions of a one sample t-test:\n",
    "\n",
    "- The sample is randomly selected from the population. For example: if the players from the youth teams were selected in the sample instead of the playing XI. \n",
    "- The individual observations are independent. For example, if one visitor to a store loves the product so much that they convinced their friend to buy one too, those observations were not independent.\n",
    "- The data is normally distributed without outliers or the sample is large enough."
   ]
  },
  {
   "cell_type": "markdown",
   "metadata": {},
   "source": [
    "## Binomial test\n",
    "\n",
    "The binomial test is used when an experiment has two possible outcomes (i.e. success/failure) and you have an idea about what the probability of success is. **A binomial test is run to see if observed test results differ from what was expected.**"
   ]
  },
  {
   "cell_type": "markdown",
   "metadata": {},
   "source": [
    "Suppose there are 500 visitors to an e-commerce website this month and 40 of them made a purchase. If each of the 500 visitors had a 10% chance of making a purchase, we would expect around 50 of those visitors to buy something. Is 41 different enough from 50 that we should question whether this months’ site visitors really had a 10% chance of making a purchase?\n",
    "\n",
    "We define our null hypothesis: the true probability of a visitor making a purchase was exactly 10%, but by random chance, we observed that only 40 visitors (8%) made a purchase."
   ]
  },
  {
   "cell_type": "code",
   "execution_count": 4,
   "metadata": {},
   "outputs": [
    {
     "data": {
      "image/png": "[encoded data removed]",
      "text/plain": [
       "<Figure size 432x288 with 1 Axes>"
      ]
     },
     "metadata": {
      "needs_background": "light"
     },
     "output_type": "display_data"
    }
   ],
   "source": [
    "import numpy as np\n",
    "import matplotlib.pyplot as plt\n",
    "null_outcomes = []\n",
    "\n",
    "for i in range(10000):\n",
    "    #simulate the population\n",
    "    simulated_monthly_visitors = np.random.choice(['y', 'n'], size=500, p=[0.1, 0.9])\n",
    "    #sum all the visitors who made a purchase\n",
    "    num_purchased = np.sum(simulated_monthly_visitors == 'y')\n",
    "    #list of the sum of visitors who made a purchase from each sample size of 500 visitors\n",
    "    null_outcomes.append(num_purchased)\n",
    "\n",
    "#plot the histogram here:\n",
    "plt.hist(null_outcomes)\n",
    "plt.axvline(40,color='r')\n",
    "plt.show();"
   ]
  },
  {
   "cell_type": "code",
   "execution_count": 5,
   "metadata": {},
   "outputs": [
    {
     "name": "stdout",
     "output_type": "stream",
     "text": [
      "[37. 64.]\n"
     ]
    }
   ],
   "source": [
    "#calculate the 90% interval here:\n",
    "null_90CI = np.percentile(null_outcomes,[2.5,97.5])\n",
    "print(null_90CI)"
   ]
  },
  {
   "cell_type": "code",
   "execution_count": 6,
   "metadata": {},
   "outputs": [
    {
     "name": "stdout",
     "output_type": "stream",
     "text": [
      "0.0732\n"
     ]
    }
   ],
   "source": [
    "#calculate the p-value here:\n",
    "null_outcomes = np.array(null_outcomes)\n",
    "p_value = np.sum(null_outcomes <=40)/len(null_outcomes)\n",
    "print(p_value)"
   ]
  },
  {
   "cell_type": "code",
   "execution_count": 7,
   "metadata": {},
   "outputs": [
    {
     "name": "stdout",
     "output_type": "stream",
     "text": [
      "0.1575\n"
     ]
    }
   ],
   "source": [
    "#calculate two sided p-value here:\n",
    "null_outcomes = np.array(null_outcomes)\n",
    "p_value = np.sum((null_outcomes <= 40) | (null_outcomes >= 60))/len(null_outcomes)\n",
    "print(p_value)"
   ]
  },
  {
   "cell_type": "markdown",
   "metadata": {},
   "source": [
    "Now, we define a function to simulate a binomial test using the above concepts."
   ]
  },
  {
   "cell_type": "code",
   "execution_count": 8,
   "metadata": {},
   "outputs": [],
   "source": [
    "def simulation_binomial_test(observed_successes,n,p):\n",
    "    #initialize null_outcomes\n",
    "    null_outcomes = []\n",
    "    \n",
    "    #generate the simulated null distribution\n",
    "    for i in range(10000):\n",
    "        simulated_monthly_visitors = np.random.choice(['y', 'n'], size=n, p=[p, 1-p])\n",
    "        num_purchased = np.sum(simulated_monthly_visitors == 'y')\n",
    "        null_outcomes.append(num_purchased)\n",
    "        \n",
    "    #calculate a 1-sided p-value\n",
    "    null_outcomes = np.array(null_outcomes)\n",
    "    p_value = np.sum(null_outcomes <= observed_successes)/len(null_outcomes) \n",
    "  \n",
    "    #return the p-value\n",
    "    return p_value"
   ]
  },
  {
   "cell_type": "code",
   "execution_count": 9,
   "metadata": {},
   "outputs": [
    {
     "name": "stdout",
     "output_type": "stream",
     "text": [
      "simulation p-value:  0.0746\n"
     ]
    }
   ],
   "source": [
    "p_value1 = simulation_binomial_test(40, 500, .1)\n",
    "print(\"simulation p-value: \", p_value1)"
   ]
  },
  {
   "cell_type": "markdown",
   "metadata": {},
   "source": [
    "The same binomial test can be performed using `binom_test` function in scipy library."
   ]
  },
  {
   "cell_type": "code",
   "execution_count": 10,
   "metadata": {},
   "outputs": [
    {
     "name": "stdout",
     "output_type": "stream",
     "text": [
      "0.07508928965905827\n"
     ]
    }
   ],
   "source": [
    "from scipy.stats import binom_test\n",
    "\n",
    "# calculate p_value_2sided here:\n",
    "p_value_2sided = binom_test(40,500,p=0.1)\n",
    "# calculate p_value_1sided here:\n",
    "p_value_1sided = binom_test(40,500,p=0.1,alternative = 'less')\n",
    "print(p_value_1sided)"
   ]
  },
  {
   "cell_type": "markdown",
   "metadata": {},
   "source": [
    "We can see the p-value calculated using the scipy `binom_test` function is similar to the value generated using the simulated function `simulation_binomial_test`. \n",
    "\n",
    "Here the p-value greater > 0.05. Hence we accept the null hypothesis that the true probability of a visitor making a purchase was exactly 10%, but by random chance, we observed that only 40 visitors (8%) made a purchase."
   ]
  },
  {
   "cell_type": "markdown",
   "metadata": {},
   "source": [
    "# Two-Sample T-tests\n",
    "\n",
    "A two sample t-test is used to comparing the means of two groups if they come from different populations. For example, comparing average height of men and women. \n",
    "\n",
    "In the below example we will use the iris dataset to compare the sepal width for the two species of iris flowers setosa and virginica using the `ttest_ind` function from scipy library.\n",
    "\n",
    "Here our null hypothesis is that true difference between these group means of the sepal width is zero. While the alternate hypothesis is that the true difference is different from zero."
   ]
  },
  {
   "cell_type": "code",
   "execution_count": 11,
   "metadata": {},
   "outputs": [
    {
     "name": "stdout",
     "output_type": "stream",
     "text": [
      "<class 'pandas.core.frame.DataFrame'>\n",
      "RangeIndex: 150 entries, 0 to 149\n",
      "Data columns (total 5 columns):\n",
      "sepal_length    150 non-null float64\n",
      "sepal_width     150 non-null float64\n",
      "petal_length    150 non-null float64\n",
      "petal_width     150 non-null float64\n",
      "species         150 non-null object\n",
      "dtypes: float64(4), object(1)\n",
      "memory usage: 5.9+ KB\n"
     ]
    },
    {
     "data": {
      "text/html": [
       "<div>\n",
       "<style scoped>\n",
       "    .dataframe tbody tr th:only-of-type {\n",
       "        vertical-align: middle;\n",
       "    }\n",
       "\n",
       "    .dataframe tbody tr th {\n",
       "        vertical-align: top;\n",
       "    }\n",
       "\n",
       "    .dataframe thead th {\n",
       "        text-align: right;\n",
       "    }\n",
       "</style>\n",
       "<table border=\"1\" class=\"dataframe\">\n",
       "  <thead>\n",
       "    <tr style=\"text-align: right;\">\n",
       "      <th></th>\n",
       "      <th>sepal_length</th>\n",
       "      <th>sepal_width</th>\n",
       "      <th>petal_length</th>\n",
       "      <th>petal_width</th>\n",
       "      <th>species</th>\n",
       "    </tr>\n",
       "  </thead>\n",
       "  <tbody>\n",
       "    <tr>\n",
       "      <th>0</th>\n",
       "      <td>5.1</td>\n",
       "      <td>3.5</td>\n",
       "      <td>1.4</td>\n",
       "      <td>0.2</td>\n",
       "      <td>setosa</td>\n",
       "    </tr>\n",
       "    <tr>\n",
       "      <th>1</th>\n",
       "      <td>4.9</td>\n",
       "      <td>3.0</td>\n",
       "      <td>1.4</td>\n",
       "      <td>0.2</td>\n",
       "      <td>setosa</td>\n",
       "    </tr>\n",
       "    <tr>\n",
       "      <th>2</th>\n",
       "      <td>4.7</td>\n",
       "      <td>3.2</td>\n",
       "      <td>1.3</td>\n",
       "      <td>0.2</td>\n",
       "      <td>setosa</td>\n",
       "    </tr>\n",
       "    <tr>\n",
       "      <th>3</th>\n",
       "      <td>4.6</td>\n",
       "      <td>3.1</td>\n",
       "      <td>1.5</td>\n",
       "      <td>0.2</td>\n",
       "      <td>setosa</td>\n",
       "    </tr>\n",
       "    <tr>\n",
       "      <th>4</th>\n",
       "      <td>5.0</td>\n",
       "      <td>3.6</td>\n",
       "      <td>1.4</td>\n",
       "      <td>0.2</td>\n",
       "      <td>setosa</td>\n",
       "    </tr>\n",
       "  </tbody>\n",
       "</table>\n",
       "</div>"
      ],
      "text/plain": [
       "   sepal_length  sepal_width  petal_length  petal_width species\n",
       "0           5.1          3.5           1.4          0.2  setosa\n",
       "1           4.9          3.0           1.4          0.2  setosa\n",
       "2           4.7          3.2           1.3          0.2  setosa\n",
       "3           4.6          3.1           1.5          0.2  setosa\n",
       "4           5.0          3.6           1.4          0.2  setosa"
      ]
     },
     "execution_count": 11,
     "metadata": {},
     "output_type": "execute_result"
    }
   ],
   "source": [
    "import pandas as pd\n",
    "\n",
    "data = 'https://gist.githubusercontent.com/curran/a08a1080b88344b0c8a7/raw/0e7a9b0a5d22642a06d3d5b9bcbad9890c8ee534/iris.csv'\n",
    "df = pd.read_csv(data)\n",
    "df.info()\n",
    "df.head()"
   ]
  },
  {
   "cell_type": "code",
   "execution_count": 12,
   "metadata": {},
   "outputs": [],
   "source": [
    "# Subset data for the two species\n",
    "setosa = df[df.species =='setosa']['sepal_width']\n",
    "virginica = df[df.species == 'virginica']['sepal_width']"
   ]
  },
  {
   "cell_type": "code",
   "execution_count": 13,
   "metadata": {
    "scrolled": true
   },
   "outputs": [
    {
     "data": {
      "image/png": "[encoded data removed]",
      "text/plain": [
       "<Figure size 432x288 with 1 Axes>"
      ]
     },
     "metadata": {
      "needs_background": "light"
     },
     "output_type": "display_data"
    }
   ],
   "source": [
    "# plot overlapping histograms\n",
    "plt.hist(list(setosa), alpha=.8, label='setosa')\n",
    "plt.hist(list(virginica), alpha=.8, label='virginica')\n",
    "plt.legend()\n",
    "plt.show()"
   ]
  },
  {
   "cell_type": "code",
   "execution_count": 14,
   "metadata": {},
   "outputs": [
    {
     "name": "stdout",
     "output_type": "stream",
     "text": [
      "8.916634067006443e-09\n"
     ]
    }
   ],
   "source": [
    "# perform two tailed t-test\n",
    "from scipy.stats import ttest_ind\n",
    "tstat, pval = ttest_ind(setosa,virginica)\n",
    "print(pval)"
   ]
  },
  {
   "cell_type": "markdown",
   "metadata": {},
   "source": [
    "Since the p-value <<<0.0.05, we reject the null hypothesis and conclude the mean sepal width for the two species of iris flower is different from each other."
   ]
  }
 ],
 "metadata": {
  "kernelspec": {
   "display_name": "Python 3 (ipykernel)",
   "language": "python",
   "name": "python3"
  },
  "language_info": {
   "codemirror_mode": {
    "name": "ipython",
    "version": 3
   },
   "file_extension": ".py",
   "mimetype": "text/x-python",
   "name": "python",
   "nbconvert_exporter": "python",
   "pygments_lexer": "ipython3",
   "version": "3.7.13"
  }
 },
 "nbformat": 4,
 "nbformat_minor": 2
}
