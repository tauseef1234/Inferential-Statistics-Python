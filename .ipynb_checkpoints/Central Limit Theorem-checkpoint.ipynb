{
 "cells": [
  {
   "cell_type": "markdown",
   "metadata": {},
   "source": [
    "# Central Limit Theorem"
   ]
  },
  {
   "cell_type": "markdown",
   "metadata": {},
   "source": [
    "Consider that as a data scientist you would like to know the average hourly wage for all US adults who make under `150$` per hour. This would be practically infeasible to collect all the wage data for all the population matching this criteria. Instead, you take a sample of 150 people and record their hourly wage. The below code tries to mimic a random sample of 150 people and record their hourly wage with a sample mean of ~`30$`."
   ]
  },
  {
   "cell_type": "code",
   "execution_count": 1,
   "metadata": {},
   "outputs": [],
   "source": [
    "# import all the packages\n",
    "import numpy as np\n",
    "import matplotlib.pyplot as plt\n",
    "import random"
   ]
  },
  {
   "cell_type": "code",
   "execution_count": 2,
   "metadata": {},
   "outputs": [
    {
     "name": "stdout",
     "output_type": "stream",
     "text": [
      "Mean of the sample: 26.087592981012158\n"
     ]
    },
    {
     "data": {
      "image/png": "[encoded data removed]",
      "text/plain": [
       "<Figure size 432x288 with 1 Axes>"
      ]
     },
     "metadata": {
      "needs_background": "light"
     },
     "output_type": "display_data"
    }
   ],
   "source": [
    "l1 = [np.random.uniform(0,20) for i in range(100)]\n",
    "l2 = [np.random.uniform(0,100) for i in range(30)]\n",
    "l3 = [np.random.uniform(0,150) for i in range(20)]\n",
    "sample = l1+l2+l3\n",
    "print(f'Mean of the sample: {np.mean(sample)}')\n",
    "plt.hist(sample,10)\n",
    "plt.axvline(np.mean(sample), color='k', linestyle='dashed', linewidth=1);"
   ]
  },
  {
   "cell_type": "markdown",
   "metadata": {},
   "source": [
    "This sample mean is not EXACTLY the same as sample mean, but you hope that it is close enough. But how do you know, how far the population mean is from this sample mean?\n",
    "\n",
    "In order to answer this, lets assume that we actually know the hourly wage of all people in the populatio of interest. Supposing that the true average hourly wage is around ~ `28$` and histogram of the below population looks like the below plot."
   ]
  },
  {
   "cell_type": "code",
   "execution_count": 3,
   "metadata": {
    "scrolled": true
   },
   "outputs": [
    {
     "name": "stdout",
     "output_type": "stream",
     "text": [
      "Mean of the population: 28.458238718512455\n"
     ]
    },
    {
     "data": {
      "image/png": "[encoded data removed]",
      "text/plain": [
       "<Figure size 432x288 with 1 Axes>"
      ]
     },
     "metadata": {
      "needs_background": "light"
     },
     "output_type": "display_data"
    }
   ],
   "source": [
    "l1 = [np.random.uniform(0,40) for i in range(80000)]\n",
    "l2 = [np.random.uniform(0,100) for i in range(10000)]\n",
    "l3 = [np.random.uniform(0,150) for i in range(10000)]\n",
    "pop = l1+l2+l3\n",
    "print(f'Mean of the population: {np.mean(pop)}')\n",
    "plt.hist(pop,10)\n",
    "plt.axvline(np.mean(pop), color='k', linestyle='dashed', linewidth=1);"
   ]
  },
  {
   "cell_type": "markdown",
   "metadata": {},
   "source": [
    "In order to quantify the uncertainity about our sample in figure 1, it will be useful if we get some more samples. Consider taking 10,000 random samples of 150 people from the population and calculate the mean hourly wage for each of those samples. We could then inspect the 10,000 sample means to see how much they vary. If the variation a lot, then we are less confident that any individual sample mean is representative of the population. Less variation would make us more confident."
   ]
  },
  {
   "cell_type": "code",
   "execution_count": 4,
   "metadata": {},
   "outputs": [
    {
     "name": "stdout",
     "output_type": "stream",
     "text": [
      "Sample means: 28.480583390402487\n"
     ]
    },
    {
     "data": {
      "image/png": "[encoded data removed]",
      "text/plain": [
       "<Figure size 432x288 with 1 Axes>"
      ]
     },
     "metadata": {
      "needs_background": "light"
     },
     "output_type": "display_data"
    }
   ],
   "source": [
    "sample_means = []\n",
    " \n",
    "for i in range(10000):\n",
    "    samp = random.sample(pop, 150)\n",
    "    sample_means.append(np.mean(samp))\n",
    "\n",
    "print(f'Sample means: {np.mean(sample_means)}')\n",
    "plt.hist(sample_means, bins = 30)\n",
    "plt.vlines(np.mean(sample_means), 0, 1000, lw=3, linestyles='dashed');"
   ]
  },
  {
   "cell_type": "markdown",
   "metadata": {},
   "source": [
    "There are a few interesting things to notice about this distribution, which is called the sampling distribution of the mean:\n",
    "\n",
    "- Unlike the population distribution, which is very right-skewed, this distribution is (almost) normally distributed: symmetric with a single mode.\n",
    "- The average of the sample means (black dotted line) is approximately equal to the population mean (28.44).\n",
    "- The 10,000 sample means range approximately between 22 and 36 (plus or minus 6 dollars from the true mean)."
   ]
  },
  {
   "cell_type": "markdown",
   "metadata": {},
   "source": [
    "**Now, lets try to formally define CLT**\n",
    "\n",
    "Suppose we have a normally dsitributed population of 100,000 data points as show below with a standard deviation of 10."
   ]
  },
  {
   "cell_type": "code",
   "execution_count": 5,
   "metadata": {},
   "outputs": [
    {
     "name": "stdout",
     "output_type": "stream",
     "text": [
      "10.001243668756114\n"
     ]
    },
    {
     "data": {
      "image/png": "[encoded data removed]",
      "text/plain": [
       "<Figure size 432x288 with 1 Axes>"
      ]
     },
     "metadata": {
      "needs_background": "light"
     },
     "output_type": "display_data"
    }
   ],
   "source": [
    "pop_stdev = 10\n",
    "population = np.random.normal(loc = 10, scale = pop_stdev, size = 100000)\n",
    "population = list(population)\n",
    "plt.hist(population, bins = 30);\n",
    "print(np.mean(population))\n",
    "plt.vlines(np.mean(population), 0, 12000, lw=3, linestyles='dashed');"
   ]
  },
  {
   "cell_type": "markdown",
   "metadata": {},
   "source": [
    "Now if we try to take 10,000 samples from this entire population of 100,000 data points of sample size 100 and try to plot the means of each of those 10,000 samples (also known as sample means). \n",
    "\n",
    "As per the definition of CLT, the sampling distribution of the mean:\n",
    "\n",
    "- is normally distributed\n",
    "- is centered around population mean\n",
    "- has standard deviation equal to the population standard deviation devided by the square root of the sample size. Also known as *Standard Error*\n",
    "\n",
    "We can see in the below plot, that the sample means is centered around the population and is normally distributed. The standard error is equal to 10/sqrt(100000) = 0.1\n",
    "\n",
    "Note: In this scenario, the population is normally distributed. The CLT will apply to non-normally distibuted population as well. We saw this in the hourly wage example where the true population was right skewed."
   ]
  },
  {
   "cell_type": "code",
   "execution_count": 6,
   "metadata": {
    "scrolled": true
   },
   "outputs": [
    {
     "name": "stdout",
     "output_type": "stream",
     "text": [
      "Sample means: 10.021740872187072\n",
      "Standard error: 0.1\n"
     ]
    },
    {
     "data": {
      "image/png": "[encoded data removed]",
      "text/plain": [
       "<Figure size 432x288 with 1 Axes>"
      ]
     },
     "metadata": {
      "needs_background": "light"
     },
     "output_type": "display_data"
    }
   ],
   "source": [
    "sample_means = []\n",
    " \n",
    "for i in range(10000):\n",
    "    samp = random.sample(population, 100)\n",
    "    sample_means.append(np.mean(samp))\n",
    "print(f'Sample means: {np.mean(sample_means)}')\n",
    "print(f'Standard error: {pop_stdev/(10000**0.5)}')\n",
    "plt.hist(sample_means, bins = 30)\n",
    "plt.vlines(np.mean(sample_means), 0, 1000, lw=3, linestyles='dashed');"
   ]
  },
  {
   "cell_type": "markdown",
   "metadata": {},
   "source": [
    "that there are two levers on the width of the sampling distribution:\n",
    "\n",
    "- The population standard deviation. Populations with more variation will yield sample means with more variation. For example, imagine sampling the heights of 5 year olds compared to sampling heights of 5-18 year olds. There is more variation in the heights of 5-18 year olds, so there will be more variation in individual samples.\n",
    "\n",
    "- The sample size. The larger the sample size, the smaller the variation in repeated sample means. In the wage example above, imagine sampling only five people instead of 150. Those five sampled people could include one outlier that throws the whole sample mean off. If we sample 150 (or even more) people, we’re more likely to have high and low outliers that cancel each other out."
   ]
  },
  {
   "cell_type": "code",
   "execution_count": 7,
   "metadata": {},
   "outputs": [
    {
     "data": {
      "image/png": "[encoded data removed]",
      "text/plain": [
       "<Figure size 432x288 with 1 Axes>"
      ]
     },
     "metadata": {
      "needs_background": "light"
     },
     "output_type": "display_data"
    }
   ],
   "source": [
    "samp_size = 2\n",
    "pop_stdev = 10\n",
    "\n",
    "population = np.random.normal(loc = 10, scale = pop_stdev, size = 100000)\n",
    "population = list(population)\n",
    "\n",
    "sample_means = []\n",
    "\n",
    "for i in range(10000):\n",
    "    samp = random.sample(population, samp_size)\n",
    "    sample_means.append(np.mean(samp))\n",
    "\n",
    "plt.hist(sample_means, bins = 30)\n",
    "plt.title('Sampling Distribution')\n",
    "plt.xlim(-10, 30)\n",
    "\n",
    "plt.show()"
   ]
  },
  {
   "cell_type": "code",
   "execution_count": 8,
   "metadata": {},
   "outputs": [
    {
     "data": {
      "image/png": "[encoded data removed]",
      "text/plain": [
       "<Figure size 432x288 with 1 Axes>"
      ]
     },
     "metadata": {
      "needs_background": "light"
     },
     "output_type": "display_data"
    }
   ],
   "source": [
    "# increase sample size\n",
    "samp_size = 10\n",
    "pop_stdev = 10\n",
    "\n",
    "population = np.random.normal(loc = 10, scale = pop_stdev, size = 100000)\n",
    "population = list(population)\n",
    "\n",
    "sample_means = []\n",
    "\n",
    "for i in range(10000):\n",
    "    samp = random.sample(population, samp_size)\n",
    "    sample_means.append(np.mean(samp))\n",
    "\n",
    "plt.hist(sample_means, bins = 30)\n",
    "plt.title('Sampling Distribution')\n",
    "plt.xlim(-10, 30)\n",
    "\n",
    "plt.show()"
   ]
  },
  {
   "cell_type": "code",
   "execution_count": 9,
   "metadata": {},
   "outputs": [
    {
     "data": {
      "image/png": "[encoded data removed]",
      "text/plain": [
       "<Figure size 432x288 with 1 Axes>"
      ]
     },
     "metadata": {
      "needs_background": "light"
     },
     "output_type": "display_data"
    }
   ],
   "source": [
    "# decrease population variance \n",
    "samp_size = 2\n",
    "pop_stdev = 10\n",
    "\n",
    "population = np.random.normal(loc = 10, scale = pop_stdev, size = 100000)\n",
    "population = list(population)\n",
    "\n",
    "sample_means = []\n",
    "\n",
    "for i in range(10000):\n",
    "    samp = random.sample(population, samp_size)\n",
    "    sample_means.append(np.mean(samp))\n",
    "\n",
    "plt.hist(sample_means, bins = 30)\n",
    "plt.title('Sampling Distribution')\n",
    "plt.xlim(-10, 30)\n",
    "\n",
    "plt.show()"
   ]
  },
  {
   "cell_type": "code",
   "execution_count": 10,
   "metadata": {},
   "outputs": [
    {
     "data": {
      "image/png": "[encoded data removed]",
      "text/plain": [
       "<Figure size 432x288 with 1 Axes>"
      ]
     },
     "metadata": {
      "needs_background": "light"
     },
     "output_type": "display_data"
    }
   ],
   "source": [
    "# increase population variance\n",
    "samp_size = 2\n",
    "pop_stdev = 15\n",
    "\n",
    "population = np.random.normal(loc = 10, scale = pop_stdev, size = 100000)\n",
    "population = list(population)\n",
    "\n",
    "sample_means = []\n",
    "\n",
    "for i in range(10000):\n",
    "    samp = random.sample(population, samp_size)\n",
    "    sample_means.append(np.mean(samp))\n",
    "\n",
    "plt.hist(sample_means, bins = 30)\n",
    "plt.title('Sampling Distribution')\n",
    "plt.xlim(-10, 30)\n",
    "\n",
    "plt.show()"
   ]
  }
 ],
 "metadata": {
  "kernelspec": {
   "display_name": "Python 3",
   "language": "python",
   "name": "python3"
  },
  "language_info": {
   "codemirror_mode": {
    "name": "ipython",
    "version": 3
   },
   "file_extension": ".py",
   "mimetype": "text/x-python",
   "name": "python",
   "nbconvert_exporter": "python",
   "pygments_lexer": "ipython3",
   "version": "3.7.3"
  }
 },
 "nbformat": 4,
 "nbformat_minor": 2
}
